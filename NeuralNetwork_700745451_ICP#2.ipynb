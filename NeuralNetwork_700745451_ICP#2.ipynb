{
 "cells": [
  {
   "cell_type": "code",
   "execution_count": 146,
   "id": "d1246f05",
   "metadata": {},
   "outputs": [
    {
     "name": "stdout",
     "output_type": "stream",
     "text": [
      "Enter First Name:Kamala\n",
      "Enter Last Name:Ramesh\n",
      "Your Full Name: Kamala Ramesh\n",
      "Kml aeh\n"
     ]
    }
   ],
   "source": [
    "#get the name from user\n",
    "first_name = str(input(\"Enter First Name:\"));\n",
    "last_name = str(input(\"Enter Last Name:\"));\n",
    "\n",
    "#fullname function call\n",
    "full_name = str (fullname(first_name,last_name));\n",
    "print(\"Your Full Name: \" + full_name);\n",
    "\n",
    "#alternate String function call\n",
    "alternate_String = str (string_alternative(full_name));\n",
    "print(alternate_String);\n",
    "\n",
    "def fullname(fname,lname):\n",
    "    fullName = (fname + \" \" + lname); #concat first and last name\n",
    "    return fullName; #return full name\n",
    "\n",
    "def string_alternative(altStr):\n",
    "    resultStr = \"\";\n",
    "    for i in range(0,len(altStr),2):\n",
    "        resultStr += altStr[i]; #append alternate characters from the input string\n",
    "    return resultStr; #return the resultant string.\n",
    "\n",
    "  \n",
    "    "
   ]
  },
  {
   "cell_type": "code",
   "execution_count": 148,
   "id": "1fef14ae",
   "metadata": {},
   "outputs": [
    {
     "name": "stdout",
     "output_type": "stream",
     "text": [
      "Word Count:\n",
      "Python: 2\n",
      "Course: 2\n",
      "Deep: 1\n",
      "Learning: 1\n",
      "Using: 1\n"
     ]
    }
   ],
   "source": [
    "#open file in read mode\n",
    "inputFile = open(\"input.txt\", \"r\");\n",
    "\n",
    "#create a dictionary\n",
    "wordCount = dict();\n",
    "\n",
    "#loop through each line of the file\n",
    "for lines in inputFile:\n",
    "    words = lines.split(); #split the line into words\n",
    "    \n",
    "    #iterate over each word in line\n",
    "    for word in words:\n",
    "        \n",
    "        #check if the word is already in dictionary\n",
    "        if word in wordCount:\n",
    "            wordCount[word] = wordCount[word] + 1; #increment the count by 1\n",
    "        else:\n",
    "            wordCount[word] = 1; #add the entry to dictionary with count 1\n",
    "            \n",
    "#open the file in write mode to store the results\n",
    "outputFile = open(\"output.txt\", \"w\");\n",
    "\n",
    "outputFile.writelines(\"Word Count:\");\n",
    "print(\"Word Count:\")\n",
    "#for loop is used to print the results one by one\n",
    "for key in list(wordCount.keys()):\n",
    "    print('%s: %s' % (key,wordCount[key])); #print the dictionary content\n",
    "    outputFile.write('\\n%s: %s' % (key,wordCount[key])); #store in the output file\n",
    "    \n",
    "#close file\n",
    "outputFile.close();\n",
    "  "
   ]
  },
  {
   "cell_type": "code",
   "execution_count": 149,
   "id": "f7f26eed",
   "metadata": {},
   "outputs": [
    {
     "name": "stdout",
     "output_type": "stream",
     "text": [
      "Enter the No. of Customers: 5\n",
      "43\n",
      "55\n",
      "67\n",
      "87\n",
      "56\n",
      "Height in Inches:  [43, 55, 67, 87, 56]\n",
      "Height in Centimeters:  [109.22, 139.7, 170.18, 220.98, 142.24]\n"
     ]
    }
   ],
   "source": [
    "#create an empty list\n",
    "height_list = []\n",
    "\n",
    "#get the list size and input from the user\n",
    "noOfCustomers = int (input(\"Enter the No. of Customers: \"))\n",
    "for i in range(0,noOfCustomers):\n",
    "    item = int(input())\n",
    "    height_list.append(item)\n",
    "\n",
    "#print the input list\n",
    "print(\"Height in Inches: \", height_list)\n",
    "\n",
    "#create the new list of height in cm using list comprehension\n",
    "newList = [x*2.54 for x in height_list]\n",
    "print (\"Height in Centimeters: \",newList)\n",
    "    "
   ]
  }
 ],
 "metadata": {
  "kernelspec": {
   "display_name": "Python 3 (ipykernel)",
   "language": "python",
   "name": "python3"
  },
  "language_info": {
   "codemirror_mode": {
    "name": "ipython",
    "version": 3
   },
   "file_extension": ".py",
   "mimetype": "text/x-python",
   "name": "python",
   "nbconvert_exporter": "python",
   "pygments_lexer": "ipython3",
   "version": "3.9.13"
  }
 },
 "nbformat": 4,
 "nbformat_minor": 5
}
